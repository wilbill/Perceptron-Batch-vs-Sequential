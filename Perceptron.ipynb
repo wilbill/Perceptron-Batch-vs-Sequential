{
  "nbformat": 4,
  "nbformat_minor": 0,
  "metadata": {
    "colab": {
      "provenance": [],
      "authorship_tag": "ABX9TyNxqcbrewzm548Cfvo+sO8f",
      "include_colab_link": true
    },
    "kernelspec": {
      "name": "python3",
      "display_name": "Python 3"
    },
    "language_info": {
      "name": "python"
    }
  },
  "cells": [
    {
      "cell_type": "markdown",
      "metadata": {
        "id": "view-in-github",
        "colab_type": "text"
      },
      "source": [
        "<a href=\"https://colab.research.google.com/github/wilbill/Perceptron-Batch-vs-Sequential/blob/main/Perceptron.ipynb\" target=\"_parent\"><img src=\"https://colab.research.google.com/assets/colab-badge.svg\" alt=\"Open In Colab\"/></a>"
      ]
    },
    {
      "cell_type": "markdown",
      "source": [
        "PART 4: •\tThe Perceptron code on the website (http://stephenmonika.net/ ) is a batch update algorithm, where the whole of the dataset is fed in to find the errors, and then the weights are updated afterwards,\n",
        "Here, I am Converting the code to run as sequential updates and then compare the results of using the two versions. (I am Modifying existing Python program )"
      ],
      "metadata": {
        "id": "qNQIu2-FdRSI"
      }
    },
    {
      "cell_type": "markdown",
      "source": [],
      "metadata": {
        "id": "FBwXBDnGdKI9"
      }
    },
    {
      "cell_type": "code",
      "execution_count": 49,
      "metadata": {
        "id": "HBD-agZkdW1l"
      },
      "outputs": [],
      "source": [
        "import numpy as np\n",
        "\n",
        "class pcn:\n",
        "    \"\"\" A Perceptron model with Sequential Updates \"\"\"\n",
        "\n",
        "    def __init__(self, inputs, targets):\n",
        "        \"\"\" Initialize the Perceptron model \"\"\"\n",
        "        if np.ndim(inputs) > 1:\n",
        "            self.nIn = np.shape(inputs)[1]\n",
        "        else:\n",
        "            self.nIn = 1\n",
        "\n",
        "        if np.ndim(targets) > 1:\n",
        "            self.nOut = np.shape(targets)[1]\n",
        "        else:\n",
        "            self.nOut = 1\n",
        "\n",
        "        self.nData = np.shape(inputs)[0]\n",
        "        self.weights = np.random.rand(self.nIn + 1, self.nOut) * 0.1 - 0.05\n",
        "\n",
        "    def pcntrain(self, inputs, targets, eta, nIterations):\n",
        "        \"\"\" Train using Sequential Update \"\"\"\n",
        "        inputs = np.concatenate((inputs, -np.ones((self.nData, 1))), axis=1)\n",
        "\n",
        "        for n in range(nIterations):\n",
        "            print(f\"Iteration {n + 1}:\")\n",
        "            for m in range(self.nData):  # Process each data point sequentially\n",
        "                inputs_seq = np.array([inputs[m]])\n",
        "                targets_seq = np.array([targets[m]])\n",
        "\n",
        "                activations = self.pcnfwd(inputs_seq)\n",
        "                self.weights -= eta * np.dot(np.transpose(inputs_seq), (activations - targets_seq))\n",
        "\n",
        "                print(f\"Step {m + 1} - Updated Weights:\\n{self.weights}\")\n",
        "\n",
        "    def pcnfwd(self, inputs):\n",
        "        \"\"\" Forward pass \"\"\"\n",
        "        activations = np.dot(inputs, self.weights)\n",
        "        return np.where(activations > 0, 1, 0)\n",
        "\n",
        "    def confmat(self, inputs, targets):\n",
        "        \"\"\" Compute Confusion Matrix \"\"\"\n",
        "        inputs = np.concatenate((inputs, -np.ones((self.nData, 1))), axis=1)\n",
        "        outputs = np.dot(inputs, self.weights)\n",
        "\n",
        "        nClasses = np.shape(targets)[1] if np.ndim(targets) > 1 else 2\n",
        "        outputs = np.where(outputs > 0, 1, 0) if nClasses == 2 else np.argmax(outputs, 1)\n",
        "        targets = np.argmax(targets, 1) if nClasses != 2 else targets\n",
        "\n",
        "        cm = np.zeros((nClasses, nClasses))\n",
        "        for i in range(nClasses):\n",
        "            for j in range(nClasses):\n",
        "                cm[i, j] = np.sum((outputs == i) * (targets == j))\n",
        "\n",
        "        print(\"Confusion Matrix:\\n\", cm)\n",
        "        print(\"Accuracy:\", np.trace(cm) / np.sum(cm))\n"
      ]
    },
    {
      "cell_type": "markdown",
      "source": [
        "PART 5  \n",
        "Run the Perceptron on the Diabetes Dataset and Compare Performance\n",
        "The dataset contains 8 features and a target variable (Outcome), where:\n",
        "\n",
        "0 = Non-Diabetic\n",
        "1 = Diabetic\n",
        "Since the Perceptron works with labels of\n",
        "−\n",
        "1\n",
        "−1 and\n",
        "1\n",
        "1, we transform 0 → -1 and 1 → 1."
      ],
      "metadata": {
        "id": "bB2Gjvu7YF60"
      }
    },
    {
      "cell_type": "code",
      "source": [
        "import pandas as pd\n",
        "from sklearn.model_selection import train_test_split\n",
        "from sklearn.preprocessing import StandardScaler\n",
        "\n",
        "# Load dataset\n",
        "file_path = \"./diabetes.csv\"\n",
        "diabetes_data = pd.read_csv(file_path)\n",
        "\n",
        "# Separate features and target\n",
        "X = diabetes_data.drop(columns=[\"Outcome\"]).values\n",
        "y = diabetes_data[\"Outcome\"].values\n",
        "\n",
        "# Normalize features\n",
        "scaler = StandardScaler()\n",
        "X_scaled = scaler.fit_transform(X)\n",
        "\n",
        "# Convert target to {-1, 1}\n",
        "y_transformed = np.where(y == 0, -1, 1)\n",
        "\n",
        "# Split data into training (80%) and testing (20%)\n",
        "X_train, X_test, y_train, y_test = train_test_split(X_scaled, y_transformed, test_size=0.2, random_state=42)\n"
      ],
      "metadata": {
        "id": "BibVNbxaOvsl"
      },
      "execution_count": 50,
      "outputs": []
    },
    {
      "cell_type": "markdown",
      "source": [
        "Step 2: Implement Perceptron with Batch & Sequential Learning\n",
        "python"
      ],
      "metadata": {
        "id": "ak_3RbRBZaWg"
      }
    },
    {
      "cell_type": "code",
      "source": [
        "class Perceptron:\n",
        "    def __init__(self, learning_rate=0.01, max_iter=1000):\n",
        "        self.learning_rate = learning_rate\n",
        "        self.max_iter = max_iter\n",
        "        self.weights = None\n",
        "        self.bias = None\n",
        "\n",
        "    def fit_sequential(self, X, y):\n",
        "        \"\"\"Train using Sequential Updates\"\"\"\n",
        "        n_samples, n_features = X.shape\n",
        "        self.weights = np.zeros(n_features)\n",
        "        self.bias = 0\n",
        "\n",
        "        for _ in range(self.max_iter):\n",
        "            for i in range(n_samples):\n",
        "                update = self.learning_rate * y[i] if y[i] * (np.dot(X[i], self.weights) + self.bias) <= 0 else 0\n",
        "                self.weights += update * X[i]\n",
        "                self.bias += update\n",
        "\n",
        "    def fit_batch(self, X, y):\n",
        "        \"\"\"Train using Batch Updates\"\"\"\n",
        "        n_samples, n_features = X.shape\n",
        "        self.weights = np.zeros(n_features)\n",
        "        self.bias = 0\n",
        "\n",
        "        for _ in range(self.max_iter):\n",
        "            misclassified = y * (np.dot(X, self.weights) + self.bias) <= 0\n",
        "            if not np.any(misclassified):\n",
        "                break\n",
        "            update = self.learning_rate * np.sum(y[misclassified][:, None] * X[misclassified], axis=0)\n",
        "            self.weights += update\n",
        "            self.bias += self.learning_rate * np.sum(y[misclassified])\n",
        "\n",
        "    def predict(self, X):\n",
        "        \"\"\"Predict labels\"\"\"\n",
        "        return np.sign(np.dot(X, self.weights) + self.bias)\n",
        "\n"
      ],
      "metadata": {
        "id": "u0e2KqqDYV_Z"
      },
      "execution_count": 51,
      "outputs": []
    },
    {
      "cell_type": "markdown",
      "source": [
        "Train and compare Peformance"
      ],
      "metadata": {
        "id": "v9fbmR7BZtUt"
      }
    },
    {
      "cell_type": "code",
      "source": [
        "# Initialize models\n",
        "perceptron_sequential = Perceptron(learning_rate=0.01, max_iter=1000)\n",
        "perceptron_batch = Perceptron(learning_rate=0.01, max_iter=1000)\n",
        "\n",
        "# Train models\n",
        "perceptron_sequential.fit_sequential(X_train, y_train)\n",
        "perceptron_batch.fit_batch(X_train, y_train)\n",
        "\n",
        "# Predictions\n",
        "y_pred_seq = perceptron_sequential.predict(X_test)\n",
        "y_pred_batch = perceptron_batch.predict(X_test)\n",
        "\n",
        "# Compute accuracy\n",
        "accuracy_seq = np.mean(y_pred_seq == y_test)\n",
        "accuracy_batch = np.mean(y_pred_batch == y_test)\n",
        "\n",
        "print(f\"Sequential Perceptron Accuracy: {accuracy_seq:.2%}\")\n",
        "print(f\"Batch Perceptron Accuracy: {accuracy_batch:.2%}\")\n"
      ],
      "metadata": {
        "colab": {
          "base_uri": "https://localhost:8080/"
        },
        "id": "6sq5K3w0Zikc",
        "outputId": "806924af-f8cd-4fb8-d770-0a6bdddfb9c8"
      },
      "execution_count": 52,
      "outputs": [
        {
          "output_type": "stream",
          "name": "stdout",
          "text": [
            "Sequential Perceptron Accuracy: 75.32%\n",
            "Batch Perceptron Accuracy: 68.83%\n"
          ]
        }
      ]
    },
    {
      "cell_type": "markdown",
      "source": [
        "Visualizing perfomance"
      ],
      "metadata": {
        "id": "MGpyR0CqZ5LL"
      }
    },
    {
      "cell_type": "code",
      "source": [
        "import matplotlib.pyplot as plt\n",
        "from sklearn.metrics import confusion_matrix, ConfusionMatrixDisplay\n",
        "\n",
        "# Compute confusion matrices\n",
        "cm_seq = confusion_matrix(y_test, y_pred_seq)\n",
        "cm_batch = confusion_matrix(y_test, y_pred_batch)\n",
        "\n",
        "# Plot\n",
        "fig, axes = plt.subplots(1, 2, figsize=(12, 5))\n",
        "\n",
        "ConfusionMatrixDisplay(cm_seq, display_labels=[-1, 1]).plot(ax=axes[0], cmap=\"Blues\", values_format=\"d\")\n",
        "axes[0].set_title(\"Sequential Perceptron\")\n",
        "\n",
        "ConfusionMatrixDisplay(cm_batch, display_labels=[-1, 1]).plot(ax=axes[1], cmap=\"Reds\", values_format=\"d\")\n",
        "axes[1].set_title(\"Batch Perceptron\")\n",
        "\n",
        "plt.show()\n"
      ],
      "metadata": {
        "colab": {
          "base_uri": "https://localhost:8080/",
          "height": 441
        },
        "id": "S_Psr0XmZwkT",
        "outputId": "55f4a174-fa06-4a2e-e5ce-8ba975c8b739"
      },
      "execution_count": 53,
      "outputs": [
        {
          "output_type": "display_data",
          "data": {
            "text/plain": [
              "<Figure size 1200x500 with 4 Axes>"
            ],
            "image/png": "[encoded data removed]"
          },
          "metadata": {}
        }
      ]
    },
    {
      "cell_type": "markdown",
      "source": [
        "**Conclusion**\n",
        "\n",
        "Sequential Perceptron performed better because it updates weights immediately after each training example, leading to faster adaptation.\n",
        "Batch Perceptron was slightly less accurate but more stable."
      ],
      "metadata": {
        "id": "bPh_kroyd1I4"
      }
    },
    {
      "cell_type": "code",
      "source": [],
      "metadata": {
        "id": "URnGZgylZ81_"
      },
      "execution_count": null,
      "outputs": []
    }
  ]
}